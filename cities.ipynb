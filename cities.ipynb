{
 "cells": [
  {
   "cell_type": "markdown",
   "metadata": {},
   "source": [
    "Make a dictionary called cities. Use the names of three cities as keys in your dictionary. Create a\n",
    "dictionary of information about each city and include the country that the city is in, its approximate\n",
    "population, and one fact about that city. The keys for each city’s dictionary should be something like\n",
    "country, population, and fact. Print the name of each city and all of the information you have stored\n",
    "about it."
   ]
  },
  {
   "cell_type": "code",
   "execution_count": 2,
   "metadata": {},
   "outputs": [],
   "source": [
    "cities = {\n",
    "    \"Karachi\" : {\"country\" : \"Pakistan\", \"Population\" : \"20 million appprox\" , \"fact\" : \"6th biggest city of world\"},\n",
    "    \"Bombay\" : {\"country\" : \"India\", \"Population\" : \"15 million appprox\" , \"fact\" : \"highly populated\"},\n",
    "    \"Los Angeles\" : {\"country\" : \"America\", \"Population\" : \"30 million appprox\" , \"fact\" : \"one of the most expensive city\"}\n",
    "}"
   ]
  },
  {
   "cell_type": "code",
   "execution_count": 17,
   "metadata": {},
   "outputs": [
    {
     "name": "stdout",
     "output_type": "stream",
     "text": [
      "Karachi\n",
      "{'country': 'Pakistan', 'Population': '20 million appprox', 'fact': '6th biggest city of world'}\n",
      "Bombay\n",
      "{'country': 'India', 'Population': '15 million appprox', 'fact': 'highly populated'}\n",
      "Los Angeles\n",
      "{'country': 'America', 'Population': '30 million appprox', 'fact': 'one of the most expensive city'}\n"
     ]
    }
   ],
   "source": [
    "for city in cities.keys():\n",
    "    print(city)\n",
    "    print(cities[city])"
   ]
  },
  {
   "cell_type": "code",
   "execution_count": null,
   "metadata": {},
   "outputs": [],
   "source": []
  }
 ],
 "metadata": {
  "kernelspec": {
   "display_name": "Python 3",
   "language": "python",
   "name": "python3"
  },
  "language_info": {
   "codemirror_mode": {
    "name": "ipython",
    "version": 3
   },
   "file_extension": ".py",
   "mimetype": "text/x-python",
   "name": "python",
   "nbconvert_exporter": "python",
   "pygments_lexer": "ipython3",
   "version": "3.7.3"
  }
 },
 "nbformat": 4,
 "nbformat_minor": 2
}
