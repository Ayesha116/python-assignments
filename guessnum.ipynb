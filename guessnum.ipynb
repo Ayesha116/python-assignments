{
 "cells": [
  {
   "cell_type": "markdown",
   "metadata": {},
   "source": [
    "Write a program which randomly generate a number between 1 to 30 and ask the user in input field to\n",
    "guess the correct number. Give three chances to user guess the number and also give hint to user if\n",
    "hidden number is greater or smaller than the number he given to input field."
   ]
  },
  {
   "cell_type": "code",
   "execution_count": null,
   "metadata": {},
   "outputs": [
    {
     "name": "stdout",
     "output_type": "stream",
     "text": [
      "3\n"
     ]
    }
   ],
   "source": [
    "import random as random\n",
    "a = random.randint(1,30)\n",
    "print(a)\n",
    "b = int(input(\"Enter number\"))\n",
    "if a == b:\n",
    "    print(\"contagtulations!, your answer is correct\")\n",
    "else:\n",
    "    if a>b:\n",
    "        print(\"your answer is wrong, hidden number is greater than the entered number\")\n",
    "        c = int(input(\"enter another number\"))\n",
    "        if c == a:\n",
    "            print(\"contagtulations!, your answer is correct\")\n",
    "        else:\n",
    "            if c>a:\n",
    "                print(\"your answer is wrong, hidden number is less than the entered number\")\n",
    "                d = int(input(\"enter number: \"))\n",
    "                if d == a:\n",
    "                    print(\"contagtulations!, your answer is correct\")\n",
    "                else:\n",
    "                    if d>a:\n",
    "                        print(\"your answer is wrong, hidden number is less than the entered number\")\n",
    "                    \n",
    "                    elif d<a:\n",
    "                        print(\"your answer is wrong, hidden number is greater than the entered number\")\n",
    "            elif c<a:\n",
    "                print(\"your answer is wrong, hidden number is greater than the entered number\")\n",
    "                d = int(input(\"enter number: \"))\n",
    "                if d == a:\n",
    "                    print(\"contagtulations!, your answer is correct\")\n",
    "                else:\n",
    "                    if d>a:\n",
    "                        print(\"your answer is wrong, hidden number is less than the entered number\")\n",
    "                    \n",
    "                    elif d<a:\n",
    "                        print(\"your answer is wrong, hidden number is greater than the entered number\")\n",
    "        \n",
    "    elif a<b:\n",
    "        print(\"your answer is wrong, hidden number is less than the entered number\")\n",
    "        c = int(input(\"enter another number\"))\n",
    "        if c == a:\n",
    "            print(\"contagtulations!, your answer is correct\")\n",
    "        else:\n",
    "            if c>a:\n",
    "                print(\"your answer is wrong, hidden number is less than the entered number\")\n",
    "                d = int(input(\"enter number: \"))\n",
    "                if d == a:\n",
    "                    print(\"contagtulations!, your answer is correct\")\n",
    "                else:\n",
    "                    if d>a:\n",
    "                        print(\"your answer is wrong, hidden number is less than the entered number\")\n",
    "                    \n",
    "                    elif d<a:\n",
    "                        print(\"your answer is wrong, hidden number is greater than the entered number\")\n",
    "            elif c<a:\n",
    "                print(\"your answer is wrong, hidden number is greater than the entered number\")\n",
    "                d = int(input(\"enter number: \"))\n",
    "                if d == a:\n",
    "                    print(\"contagtulations!, your answer is correct\")\n",
    "                else:\n",
    "                    if d>a:\n",
    "                        print(\"your answer is wrong, hidden number is less than the entered number\")\n",
    "                    \n",
    "                    elif d<a:\n",
    "                        print(\"your answer is wrong, hidden number is greater than the entered number\")"
   ]
  },
  {
   "cell_type": "code",
   "execution_count": null,
   "metadata": {},
   "outputs": [],
   "source": []
  }
 ],
 "metadata": {
  "kernelspec": {
   "display_name": "Python 3",
   "language": "python",
   "name": "python3"
  },
  "language_info": {
   "codemirror_mode": {
    "name": "ipython",
    "version": 3
   },
   "file_extension": ".py",
   "mimetype": "text/x-python",
   "name": "python",
   "nbconvert_exporter": "python",
   "pygments_lexer": "ipython3",
   "version": "3.7.3"
  }
 },
 "nbformat": 4,
 "nbformat_minor": 2
}
